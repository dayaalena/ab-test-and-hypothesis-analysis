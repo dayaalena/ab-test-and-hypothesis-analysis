{
 "cells": [
  {
   "cell_type": "markdown",
   "id": "_E41Wr5fqnFT",
   "metadata": {
    "id": "_E41Wr5fqnFT"
   },
   "source": [
    "# Часть 1. Проверка гипотезы в Python и составление аналитической записки"
   ]
  },
  {
   "cell_type": "markdown",
   "id": "e06910dd",
   "metadata": {
    "id": "e06910dd"
   },
   "source": [
    "- Автор: Сенникова Алёна\n",
    "- Дата: 12.10.2025"
   ]
  },
  {
   "cell_type": "markdown",
   "id": "4149134c",
   "metadata": {
    "id": "4149134c"
   },
   "source": [
    "## Цели и задачи проекта\n",
    "\n",
    "\n",
    "**Цель проекта** \n",
    "\n",
    "Проверить гипотезу о различии поведения пользователей Яндекс Книг из двух городов России — Москвы и Санкт-Петербурга.\n",
    "\n",
    "Определить, проводят ли пользователи из Санкт-Петербурга в среднем больше времени за чтением и прослушиванием книг, чем пользователи из Москвы.\n",
    "\n",
    "**Задачи проекта**\n",
    "\n",
    "1. Загрузка и подготовка данных\n",
    "    - импортировать файл `yandex_knigi_data.csv`\n",
    "    - проверить данные на наличие пропусков и дубликатов\n",
    "2. Исследовательский анализ данных (EDA)\n",
    "    - изучить размер выборок по городам\n",
    "    - рассчитать описательные статистики (среднее, медиану, дисперсию, стандартное отклонение)\n",
    "    - визуализировать распределения времени активности пользователей\n",
    "3. Проверка гипотезы\n",
    "    - сформулировать гипотезы\n",
    "    - выбрать и провести соответствующий t-тест для двух независимых выборок\n",
    "    - вычислить p-value и сделать вывод о статистической значимости различий\n",
    "4. Интерпретация результатов\n",
    "    - сформулировать вывод на основе p-value\n",
    "    - предложить возможные объяснения различий между группами\n",
    "    - сделать заключение о принятии или отклонении гипотезы"
   ]
  },
  {
   "cell_type": "markdown",
   "id": "728986ea",
   "metadata": {
    "id": "728986ea"
   },
   "source": [
    "## Описание данных\n",
    "\n",
    "Для анализа используются данные пользователей **Яндекс Книги** из Москвы и Санкт-Петербурга c суммой часов их активности.\n",
    "\n",
    "Описание датасета `yandex_knigi_data.csv`:\n",
    "\n",
    "- `Unnamed: 0` - индекс строки\n",
    "- `city` - город пользователя — Москва или Санкт-Петербург\n",
    "- `puid` - уникальный идентификатор пользователя\n",
    "- `hours` - суммарное количество часов активности пользователя в приложении за весь период наблюдения\n",
    "\n",
    "Размер выборки: **8784** наблюдения."
   ]
  },
  {
   "cell_type": "markdown",
   "id": "4fecaf95",
   "metadata": {
    "id": "4fecaf95"
   },
   "source": [
    "## Содержимое проекта\n",
    "\n",
    "\n",
    "1. **Цель и задачи исследования**  \n",
    "   Проверка гипотезы о том, что пользователи из Санкт-Петербурга проводят больше времени в Яндекс Книгах, чем пользователи из Москвы.\n",
    "\n",
    "2. **Подготовка данных**  \n",
    "   Загрузка датасета, проверка пропусков и дубликатов, очистка данных.\n",
    "\n",
    "3. **Исследовательский анализ (EDA)**  \n",
    "   Сравнение размеров выборок, описательная статистика, визуализация распределений.\n",
    "\n",
    "4. **Проверка гипотезы**  \n",
    "   Проведение одностороннего t-теста для двух независимых выборок, расчёт p-value и интерпретация результата.\n",
    "\n",
    "5. **Выводы и интерпретация**  \n",
    "   Формулировка итогов проверки гипотезы и возможных причин различий между группами.\n"
   ]
  },
  {
   "cell_type": "markdown",
   "id": "6f7d21d6",
   "metadata": {
    "id": "6f7d21d6"
   },
   "source": [
    "## Загрузка данных и знакомство с ними\n",
    "\n",
    "Загрузим данные пользователей из Москвы и Санкт-Петербурга c их активностью (суммой часов чтения и прослушивания) из файла `/datasets/yandex_knigi_data.csv`."
   ]
  },
  {
   "cell_type": "markdown",
   "id": "819cdbf2",
   "metadata": {},
   "source": [
    "### Импорт библиотек и загрузка датасета\n",
    "\n",
    "Импортируем необходимые библиотеки и загрузим файл `yandex_knigi_data.csv`.  \n",
    "В анализе будут использоваться библиотеки `pandas`, `numpy`, `matplotlib` и `seaborn` — для работы с данными и визуализации."
   ]
  },
  {
   "cell_type": "code",
   "execution_count": 1,
   "id": "f68a7419",
   "metadata": {
    "id": "f68a7419"
   },
   "outputs": [],
   "source": [
    "# Импортируем необходимые библиотеки\n",
    "import pandas as pd\n",
    "import numpy as np\n",
    "import matplotlib.pyplot as plt\n",
    "import seaborn as sns\n",
    "from scipy import stats as st\n",
    "from statsmodels.stats.power import NormalIndPower\n",
    "from statsmodels.stats.proportion import proportion_effectsize\n",
    "from statsmodels.stats.proportion import proportions_ztest"
   ]
  },
  {
   "cell_type": "code",
   "execution_count": 2,
   "id": "33a550a1",
   "metadata": {},
   "outputs": [
    {
     "data": {
      "text/html": [
       "<div>\n",
       "<style scoped>\n",
       "    .dataframe tbody tr th:only-of-type {\n",
       "        vertical-align: middle;\n",
       "    }\n",
       "\n",
       "    .dataframe tbody tr th {\n",
       "        vertical-align: top;\n",
       "    }\n",
       "\n",
       "    .dataframe thead th {\n",
       "        text-align: right;\n",
       "    }\n",
       "</style>\n",
       "<table border=\"1\" class=\"dataframe\">\n",
       "  <thead>\n",
       "    <tr style=\"text-align: right;\">\n",
       "      <th></th>\n",
       "      <th>Unnamed: 0</th>\n",
       "      <th>city</th>\n",
       "      <th>puid</th>\n",
       "      <th>hours</th>\n",
       "    </tr>\n",
       "  </thead>\n",
       "  <tbody>\n",
       "    <tr>\n",
       "      <th>0</th>\n",
       "      <td>0</td>\n",
       "      <td>Москва</td>\n",
       "      <td>9668</td>\n",
       "      <td>26.167776</td>\n",
       "    </tr>\n",
       "    <tr>\n",
       "      <th>1</th>\n",
       "      <td>1</td>\n",
       "      <td>Москва</td>\n",
       "      <td>16598</td>\n",
       "      <td>82.111217</td>\n",
       "    </tr>\n",
       "    <tr>\n",
       "      <th>2</th>\n",
       "      <td>2</td>\n",
       "      <td>Москва</td>\n",
       "      <td>80401</td>\n",
       "      <td>4.656906</td>\n",
       "    </tr>\n",
       "    <tr>\n",
       "      <th>3</th>\n",
       "      <td>3</td>\n",
       "      <td>Москва</td>\n",
       "      <td>140205</td>\n",
       "      <td>1.840556</td>\n",
       "    </tr>\n",
       "    <tr>\n",
       "      <th>4</th>\n",
       "      <td>4</td>\n",
       "      <td>Москва</td>\n",
       "      <td>248755</td>\n",
       "      <td>151.326434</td>\n",
       "    </tr>\n",
       "  </tbody>\n",
       "</table>\n",
       "</div>"
      ],
      "text/plain": [
       "   Unnamed: 0    city    puid       hours\n",
       "0           0  Москва    9668   26.167776\n",
       "1           1  Москва   16598   82.111217\n",
       "2           2  Москва   80401    4.656906\n",
       "3           3  Москва  140205    1.840556\n",
       "4           4  Москва  248755  151.326434"
      ]
     },
     "execution_count": 2,
     "metadata": {},
     "output_type": "execute_result"
    }
   ],
   "source": [
    "# Загружаем данные в датафрейм\n",
    "df = pd.read_csv(\"D:\\yandex_knigi_data.csv\")\n",
    "\n",
    "# Выводим первые строки\n",
    "df.head()"
   ]
  },
  {
   "cell_type": "markdown",
   "id": "390c8a10",
   "metadata": {},
   "source": [
    "Данные успешно загружены, в таблице содержится 4 столбца."
   ]
  },
  {
   "cell_type": "markdown",
   "id": "f9164376",
   "metadata": {},
   "source": [
    "### Общая информация о данных\n",
    "\n",
    "Выведем основную информацию о датафрейме, чтобы понять структуру, типы данных и наличие пропусков."
   ]
  },
  {
   "cell_type": "code",
   "execution_count": 3,
   "id": "9e182f71",
   "metadata": {},
   "outputs": [
    {
     "name": "stdout",
     "output_type": "stream",
     "text": [
      "<class 'pandas.core.frame.DataFrame'>\n",
      "RangeIndex: 8784 entries, 0 to 8783\n",
      "Data columns (total 4 columns):\n",
      " #   Column      Non-Null Count  Dtype  \n",
      "---  ------      --------------  -----  \n",
      " 0   Unnamed: 0  8784 non-null   int64  \n",
      " 1   city        8784 non-null   object \n",
      " 2   puid        8784 non-null   int64  \n",
      " 3   hours       8784 non-null   float64\n",
      "dtypes: float64(1), int64(2), object(1)\n",
      "memory usage: 274.6+ KB\n"
     ]
    }
   ],
   "source": [
    "# Выводим информацию о датафрейме\n",
    "df.info()"
   ]
  },
  {
   "cell_type": "markdown",
   "id": "799de5fb",
   "metadata": {},
   "source": [
    "**Пропусков нет**, все значения заполнены.\n",
    "\n",
    "Типы данных: числовые - `int64`, `float64` и категориальные -`object`.\n",
    "\n",
    "Посмотрим на названия столбцов и их корректность."
   ]
  },
  {
   "cell_type": "code",
   "execution_count": 4,
   "id": "3edffecd",
   "metadata": {},
   "outputs": [
    {
     "data": {
      "text/plain": [
       "Index(['Unnamed: 0', 'city', 'puid', 'hours'], dtype='object')"
      ]
     },
     "execution_count": 4,
     "metadata": {},
     "output_type": "execute_result"
    }
   ],
   "source": [
    "# Выводим названия столбцов\n",
    "\n",
    "df.columns"
   ]
  },
  {
   "cell_type": "markdown",
   "id": "ed23283b",
   "metadata": {},
   "source": [
    "Названия корректны, однако столбец `Unnamed: 0` не несёт смысловой нагрузки — его можно удалить."
   ]
  },
  {
   "cell_type": "code",
   "execution_count": 5,
   "id": "270c99ec",
   "metadata": {},
   "outputs": [
    {
     "data": {
      "text/html": [
       "<div>\n",
       "<style scoped>\n",
       "    .dataframe tbody tr th:only-of-type {\n",
       "        vertical-align: middle;\n",
       "    }\n",
       "\n",
       "    .dataframe tbody tr th {\n",
       "        vertical-align: top;\n",
       "    }\n",
       "\n",
       "    .dataframe thead th {\n",
       "        text-align: right;\n",
       "    }\n",
       "</style>\n",
       "<table border=\"1\" class=\"dataframe\">\n",
       "  <thead>\n",
       "    <tr style=\"text-align: right;\">\n",
       "      <th></th>\n",
       "      <th>city</th>\n",
       "      <th>puid</th>\n",
       "      <th>hours</th>\n",
       "    </tr>\n",
       "  </thead>\n",
       "  <tbody>\n",
       "    <tr>\n",
       "      <th>0</th>\n",
       "      <td>Москва</td>\n",
       "      <td>9668</td>\n",
       "      <td>26.167776</td>\n",
       "    </tr>\n",
       "    <tr>\n",
       "      <th>1</th>\n",
       "      <td>Москва</td>\n",
       "      <td>16598</td>\n",
       "      <td>82.111217</td>\n",
       "    </tr>\n",
       "    <tr>\n",
       "      <th>2</th>\n",
       "      <td>Москва</td>\n",
       "      <td>80401</td>\n",
       "      <td>4.656906</td>\n",
       "    </tr>\n",
       "    <tr>\n",
       "      <th>3</th>\n",
       "      <td>Москва</td>\n",
       "      <td>140205</td>\n",
       "      <td>1.840556</td>\n",
       "    </tr>\n",
       "    <tr>\n",
       "      <th>4</th>\n",
       "      <td>Москва</td>\n",
       "      <td>248755</td>\n",
       "      <td>151.326434</td>\n",
       "    </tr>\n",
       "  </tbody>\n",
       "</table>\n",
       "</div>"
      ],
      "text/plain": [
       "     city    puid       hours\n",
       "0  Москва    9668   26.167776\n",
       "1  Москва   16598   82.111217\n",
       "2  Москва   80401    4.656906\n",
       "3  Москва  140205    1.840556\n",
       "4  Москва  248755  151.326434"
      ]
     },
     "execution_count": 5,
     "metadata": {},
     "output_type": "execute_result"
    }
   ],
   "source": [
    "# Удаляем столбец\n",
    "df = df.drop(columns = ['Unnamed: 0'])\n",
    "\n",
    "# Проверяем, что столбец успешно удалён\n",
    "df.head()"
   ]
  },
  {
   "cell_type": "markdown",
   "id": "ca15c496",
   "metadata": {},
   "source": [
    "### Проверка дубликатов\n",
    "\n",
    "Проверим наличие дубликатов по всем строкам и отдельно по идентификатору пользователя `puid`."
   ]
  },
  {
   "cell_type": "code",
   "execution_count": 6,
   "id": "25926c73",
   "metadata": {},
   "outputs": [
    {
     "data": {
      "text/plain": [
       "0"
      ]
     },
     "execution_count": 6,
     "metadata": {},
     "output_type": "execute_result"
    }
   ],
   "source": [
    "# Считаем количество полных дубликатов\n",
    "df.duplicated().sum()"
   ]
  },
  {
   "cell_type": "code",
   "execution_count": 7,
   "id": "d8e65680",
   "metadata": {},
   "outputs": [
    {
     "data": {
      "text/plain": [
       "244"
      ]
     },
     "execution_count": 7,
     "metadata": {},
     "output_type": "execute_result"
    }
   ],
   "source": [
    "# Считаем количество дубликатов по идентификатору пользователя\n",
    "df.duplicated(subset = 'puid').sum()"
   ]
  },
  {
   "cell_type": "markdown",
   "id": "21454915",
   "metadata": {},
   "source": [
    "**244** пользователя встречаются в данных более одного раза, посмотрим на эти строки."
   ]
  },
  {
   "cell_type": "code",
   "execution_count": 8,
   "id": "e6758772",
   "metadata": {},
   "outputs": [
    {
     "data": {
      "text/html": [
       "<div>\n",
       "<style scoped>\n",
       "    .dataframe tbody tr th:only-of-type {\n",
       "        vertical-align: middle;\n",
       "    }\n",
       "\n",
       "    .dataframe tbody tr th {\n",
       "        vertical-align: top;\n",
       "    }\n",
       "\n",
       "    .dataframe thead th {\n",
       "        text-align: right;\n",
       "    }\n",
       "</style>\n",
       "<table border=\"1\" class=\"dataframe\">\n",
       "  <thead>\n",
       "    <tr style=\"text-align: right;\">\n",
       "      <th></th>\n",
       "      <th>city</th>\n",
       "      <th>puid</th>\n",
       "      <th>hours</th>\n",
       "    </tr>\n",
       "  </thead>\n",
       "  <tbody>\n",
       "    <tr>\n",
       "      <th>35</th>\n",
       "      <td>Москва</td>\n",
       "      <td>2637041</td>\n",
       "      <td>10.317371</td>\n",
       "    </tr>\n",
       "    <tr>\n",
       "      <th>6247</th>\n",
       "      <td>Санкт-Петербург</td>\n",
       "      <td>2637041</td>\n",
       "      <td>3.883926</td>\n",
       "    </tr>\n",
       "    <tr>\n",
       "      <th>134</th>\n",
       "      <td>Москва</td>\n",
       "      <td>9979490</td>\n",
       "      <td>32.415573</td>\n",
       "    </tr>\n",
       "    <tr>\n",
       "      <th>6274</th>\n",
       "      <td>Санкт-Петербург</td>\n",
       "      <td>9979490</td>\n",
       "      <td>1.302997</td>\n",
       "    </tr>\n",
       "    <tr>\n",
       "      <th>145</th>\n",
       "      <td>Москва</td>\n",
       "      <td>10597984</td>\n",
       "      <td>42.931506</td>\n",
       "    </tr>\n",
       "    <tr>\n",
       "      <th>6279</th>\n",
       "      <td>Санкт-Петербург</td>\n",
       "      <td>10597984</td>\n",
       "      <td>9.041320</td>\n",
       "    </tr>\n",
       "    <tr>\n",
       "      <th>150</th>\n",
       "      <td>Москва</td>\n",
       "      <td>10815097</td>\n",
       "      <td>9.086655</td>\n",
       "    </tr>\n",
       "    <tr>\n",
       "      <th>6283</th>\n",
       "      <td>Санкт-Петербург</td>\n",
       "      <td>10815097</td>\n",
       "      <td>0.323291</td>\n",
       "    </tr>\n",
       "    <tr>\n",
       "      <th>187</th>\n",
       "      <td>Москва</td>\n",
       "      <td>13626259</td>\n",
       "      <td>21.104167</td>\n",
       "    </tr>\n",
       "    <tr>\n",
       "      <th>6300</th>\n",
       "      <td>Санкт-Петербург</td>\n",
       "      <td>13626259</td>\n",
       "      <td>1.648434</td>\n",
       "    </tr>\n",
       "  </tbody>\n",
       "</table>\n",
       "</div>"
      ],
      "text/plain": [
       "                 city      puid      hours\n",
       "35             Москва   2637041  10.317371\n",
       "6247  Санкт-Петербург   2637041   3.883926\n",
       "134            Москва   9979490  32.415573\n",
       "6274  Санкт-Петербург   9979490   1.302997\n",
       "145            Москва  10597984  42.931506\n",
       "6279  Санкт-Петербург  10597984   9.041320\n",
       "150            Москва  10815097   9.086655\n",
       "6283  Санкт-Петербург  10815097   0.323291\n",
       "187            Москва  13626259  21.104167\n",
       "6300  Санкт-Петербург  13626259   1.648434"
      ]
     },
     "execution_count": 8,
     "metadata": {},
     "output_type": "execute_result"
    }
   ],
   "source": [
    "# Выводим первые 10 строк с дубликатами\n",
    "df[df.duplicated(subset = 'puid', keep=False)].sort_values('puid').head(10)"
   ]
  },
  {
   "cell_type": "markdown",
   "id": "aaf64f5f",
   "metadata": {},
   "source": [
    "Делаем вывод, что в данных есть пользователи, присутствующие **одновременно в двух городах**. Но для корректного проведения **t-теста** выборки должны быть независимыми. **Удалим** таких пользователей, чтобы не получить искажённые результаты."
   ]
  },
  {
   "cell_type": "code",
   "execution_count": 9,
   "id": "d240046f",
   "metadata": {},
   "outputs": [],
   "source": [
    "# Удаляем все дубликаты по столбцу puid\n",
    "df = df.drop_duplicates(subset = 'puid', keep = False)"
   ]
  },
  {
   "cell_type": "markdown",
   "id": "0cee6f47",
   "metadata": {},
   "source": [
    "Теперь каждая запись в таблице соответствует уникальному пользователю из одного города."
   ]
  },
  {
   "cell_type": "markdown",
   "id": "1e96f2d3",
   "metadata": {},
   "source": [
    "## Исследовательский анализ данных (EDA)"
   ]
  },
  {
   "cell_type": "markdown",
   "id": "68b141aa",
   "metadata": {},
   "source": [
    "### Размер выборок по городам\n",
    "\n",
    "Посмотрим, сколько пользователей в каждой группе — Москве и Санкт-Петербурге."
   ]
  },
  {
   "cell_type": "code",
   "execution_count": 10,
   "id": "fcf44966",
   "metadata": {},
   "outputs": [
    {
     "data": {
      "text/plain": [
       "Москва             5990\n",
       "Санкт-Петербург    2306\n",
       "Name: city, dtype: int64"
      ]
     },
     "execution_count": 10,
     "metadata": {},
     "output_type": "execute_result"
    }
   ],
   "source": [
    "# Рассчитываем количество пользователей по городам\n",
    "city_counts = df['city'].value_counts()\n",
    "\n",
    "city_counts"
   ]
  },
  {
   "cell_type": "markdown",
   "id": "3e456bce",
   "metadata": {},
   "source": [
    "Визуализируем количество пользователей."
   ]
  },
  {
   "cell_type": "code",
   "execution_count": 11,
   "id": "2ac4cb59",
   "metadata": {},
   "outputs": [
    {
     "data": {
      "text/plain": [
       "Text(0.5, 1.0, 'Распределение пользователей по городам')"
      ]
     },
     "execution_count": 11,
     "metadata": {},
     "output_type": "execute_result"
    },
    {
     "data": {
      "image/png": "[encoded data removed]",
      "text/plain": [
       "<Figure size 432x432 with 1 Axes>"
      ]
     },
     "metadata": {},
     "output_type": "display_data"
    }
   ],
   "source": [
    "# Строим круговую диаграмму\n",
    "plt.figure(figsize = (6, 6))\n",
    "plt.pie(city_counts.values, labels=city_counts.index, autopct='%1.1f%%')\n",
    "plt.title('Распределение пользователей по городам')"
   ]
  },
  {
   "cell_type": "markdown",
   "id": "7cd98c21",
   "metadata": {},
   "source": [
    "В данных действительно представлены пользователи только из двух городов.\n",
    "\n",
    "Размеры выборок отличаются почти в **2.6 раза**, поэтому при статистической проверке гипотезы необходимо учитывать возможное **неравенство дисперсий** - лучше использовать тест Уэлча.\n",
    "\n",
    "Несмотря на разницу в объёме групп, обе выборки достаточно большие для применения параметрических тестов."
   ]
  },
  {
   "cell_type": "markdown",
   "id": "8490bbab",
   "metadata": {},
   "source": [
    "### Описательные статистики\n",
    "\n",
    "Рассчитаем ключевые статистические показатели по времени активности для каждой группы."
   ]
  },
  {
   "cell_type": "code",
   "execution_count": 12,
   "id": "4aee957a",
   "metadata": {},
   "outputs": [
    {
     "data": {
      "text/html": [
       "<div>\n",
       "<style scoped>\n",
       "    .dataframe tbody tr th:only-of-type {\n",
       "        vertical-align: middle;\n",
       "    }\n",
       "\n",
       "    .dataframe tbody tr th {\n",
       "        vertical-align: top;\n",
       "    }\n",
       "\n",
       "    .dataframe thead th {\n",
       "        text-align: right;\n",
       "    }\n",
       "</style>\n",
       "<table border=\"1\" class=\"dataframe\">\n",
       "  <thead>\n",
       "    <tr style=\"text-align: right;\">\n",
       "      <th></th>\n",
       "      <th>count</th>\n",
       "      <th>mean</th>\n",
       "      <th>std</th>\n",
       "      <th>min</th>\n",
       "      <th>25%</th>\n",
       "      <th>50%</th>\n",
       "      <th>75%</th>\n",
       "      <th>max</th>\n",
       "    </tr>\n",
       "    <tr>\n",
       "      <th>city</th>\n",
       "      <th></th>\n",
       "      <th></th>\n",
       "      <th></th>\n",
       "      <th></th>\n",
       "      <th></th>\n",
       "      <th></th>\n",
       "      <th></th>\n",
       "      <th></th>\n",
       "    </tr>\n",
       "  </thead>\n",
       "  <tbody>\n",
       "    <tr>\n",
       "      <th>Москва</th>\n",
       "      <td>5990.0</td>\n",
       "      <td>10.848192</td>\n",
       "      <td>36.925622</td>\n",
       "      <td>0.000022</td>\n",
       "      <td>0.057042</td>\n",
       "      <td>0.888232</td>\n",
       "      <td>5.933439</td>\n",
       "      <td>857.209373</td>\n",
       "    </tr>\n",
       "    <tr>\n",
       "      <th>Санкт-Петербург</th>\n",
       "      <td>2306.0</td>\n",
       "      <td>11.264433</td>\n",
       "      <td>39.831755</td>\n",
       "      <td>0.000025</td>\n",
       "      <td>0.060173</td>\n",
       "      <td>0.875355</td>\n",
       "      <td>6.138424</td>\n",
       "      <td>978.764775</td>\n",
       "    </tr>\n",
       "  </tbody>\n",
       "</table>\n",
       "</div>"
      ],
      "text/plain": [
       "                  count       mean        std       min       25%       50%  \\\n",
       "city                                                                          \n",
       "Москва           5990.0  10.848192  36.925622  0.000022  0.057042  0.888232   \n",
       "Санкт-Петербург  2306.0  11.264433  39.831755  0.000025  0.060173  0.875355   \n",
       "\n",
       "                      75%         max  \n",
       "city                                   \n",
       "Москва           5.933439  857.209373  \n",
       "Санкт-Петербург  6.138424  978.764775  "
      ]
     },
     "execution_count": 12,
     "metadata": {},
     "output_type": "execute_result"
    }
   ],
   "source": [
    "# Выводим основные показатели по городам\n",
    "df.groupby('city')['hours'].describe()"
   ]
  },
  {
   "cell_type": "markdown",
   "id": "99ea7c1b",
   "metadata": {},
   "source": [
    "Среднее время активности в Санкт-Петербурге **(11.26)** немного выше, чем в Москве **(10.85)**.  \n",
    "\n",
    "Разброс значений большой в обеих группах, что указывает на наличие сильно активных пользователей - выбросов."
   ]
  },
  {
   "cell_type": "markdown",
   "id": "50b422d4",
   "metadata": {},
   "source": [
    "### Визуализация распределения времени активности пользователей\n",
    "\n",
    "Построим **гистограммы** и **boxplot**, чтобы визуально сравнить распределения по городам."
   ]
  },
  {
   "cell_type": "code",
   "execution_count": 13,
   "id": "7fb85145",
   "metadata": {},
   "outputs": [
    {
     "data": {
      "text/plain": [
       "Text(0, 0.5, 'Количество пользователей')"
      ]
     },
     "execution_count": 13,
     "metadata": {},
     "output_type": "execute_result"
    },
    {
     "data": {
      "image/png": "[encoded data removed]",
      "text/plain": [
       "<Figure size 720x360 with 1 Axes>"
      ]
     },
     "metadata": {
      "needs_background": "light"
     },
     "output_type": "display_data"
    }
   ],
   "source": [
    "# Строим гистограмму распределения часов\n",
    "plt.figure(figsize=(10, 5))\n",
    "sns.histplot(data = df, x = 'hours', hue = 'city', bins = 80, kde = True)\n",
    "plt.xlim(0, df['hours'].quantile(0.95))\n",
    "plt.title('Распределение часов активности пользователей по городам')\n",
    "plt.xlabel('Количество часов активности')\n",
    "plt.ylabel('Количество пользователей')"
   ]
  },
  {
   "cell_type": "code",
   "execution_count": 14,
   "id": "337cb0d9",
   "metadata": {},
   "outputs": [
    {
     "data": {
      "text/plain": [
       "Text(0, 0.5, 'Количество часов активности')"
      ]
     },
     "execution_count": 14,
     "metadata": {},
     "output_type": "execute_result"
    },
    {
     "data": {
      "image/png": "[encoded data removed]",
      "text/plain": [
       "<Figure size 720x360 with 1 Axes>"
      ]
     },
     "metadata": {
      "needs_background": "light"
     },
     "output_type": "display_data"
    }
   ],
   "source": [
    "# Строим boxplot\n",
    "plt.figure(figsize=(10, 5))\n",
    "sns.boxplot(data = df, x = 'city', y = 'hours')\n",
    "plt.ylim(0, df['hours'].quantile(0.95))\n",
    "plt.title('Сравнение распределения часов активности по городам')\n",
    "plt.xlabel('Город')\n",
    "plt.ylabel('Количество часов активности')"
   ]
  },
  {
   "cell_type": "markdown",
   "id": "a3ad883c",
   "metadata": {},
   "source": [
    "Распределения по обоим городам сильно **скошены вправо** - большинство пользователей проводят в приложении менее 1 часа, а небольшое количество пользователей показывает экстремально высокие значения.  \n",
    "\n",
    "Boxplot подтверждает **наличие выбросов** и длинного «хвоста».  \n",
    "\n",
    "Для проверки гипотезы будем использовать t-тест, устойчивый к неравенству дисперсий - **тест Уэлча**."
   ]
  },
  {
   "cell_type": "markdown",
   "id": "956e82e2",
   "metadata": {
    "id": "956e82e2"
   },
   "source": [
    "## Проверка гипотезы в Python\n",
    "\n",
    "### Формулировка гипотез\n",
    "\n",
    "**Гипотеза**: пользователи из Санкт-Петербурга проводят в среднем больше времени за чтением и прослушиванием книг в приложении, чем пользователи из Москвы. \n",
    "\n",
    "- Нулевая гипотеза **H₀**: Средняя активность пользователей в часах в двух группах (Москва и Санкт-Петербург) не различается.\n",
    "\n",
    "- Альтернативная гипотеза **H₁**: Средняя активность пользователей в Санкт-Петербурге больше, и это различие статистически значимо."
   ]
  },
  {
   "cell_type": "code",
   "execution_count": 15,
   "id": "67956690",
   "metadata": {
    "id": "67956690"
   },
   "outputs": [],
   "source": [
    "# Формируем выборки по городам\n",
    "moscow_users = df[df['city'] == 'Москва']['hours']\n",
    "spb_users = df[df['city'] == 'Санкт-Петербург']['hours']"
   ]
  },
  {
   "cell_type": "markdown",
   "id": "13dbd5e3",
   "metadata": {},
   "source": [
    "### Проведение t-теста\n",
    "\n",
    "Проверим гипотезу с помощью **двухвыборочного t-теста Уэлча**."
   ]
  },
  {
   "cell_type": "code",
   "execution_count": 16,
   "id": "45d57efe",
   "metadata": {},
   "outputs": [
    {
     "name": "stdout",
     "output_type": "stream",
     "text": [
      "t-статистика = 0.43, p_value = 0.33\n"
     ]
    }
   ],
   "source": [
    "# Проведение t-теста\n",
    "result, p_value = st.ttest_ind(\n",
    "    spb_users,\n",
    "    moscow_users,\n",
    "    equal_var = False,\n",
    "    alternative = 'greater'\n",
    ")\n",
    "\n",
    "print(f't-статистика = {round(result, 2)}, p_value = {round(p_value, 2)}')"
   ]
  },
  {
   "cell_type": "markdown",
   "id": "03c3be35",
   "metadata": {},
   "source": [
    "###  Вычисление и интерпретация p_value \n",
    "\n",
    "Выберем стандартный уровень статистической значимости α = 0.05.\n",
    "\n",
    "Если p_value < α, то отклоняем H₀ и считаем, что пользователи из Санкт-Петербурга действительно проводят в среднем больше времени.  \n",
    "Если p_value ≥ α, то нет статистических оснований отвергнуть H₀."
   ]
  },
  {
   "cell_type": "code",
   "execution_count": 17,
   "id": "85e16aae",
   "metadata": {},
   "outputs": [
    {
     "name": "stdout",
     "output_type": "stream",
     "text": [
      "Полученное значение p_value=0.332 больше критического уровня alpha=0.05. Опровергнуть нулевую гипотезу нельзя.\n"
     ]
    }
   ],
   "source": [
    "# Задаём уровень значимости\n",
    "alpha = 0.05\n",
    "\n",
    "# Выводим значение p_value\n",
    "if p_value < alpha:\n",
    "        print(f'Полученное значение p_value={round(p_value, 3)} меньше критического уровня alpha={alpha}. Принимаем альтернативную гипотезу.')\n",
    "else:\n",
    "        print(f'Полученное значение p_value={round(p_value, 3)} больше критического уровня alpha={alpha}. Опровергнуть нулевую гипотезу нельзя.')"
   ]
  },
  {
   "cell_type": "markdown",
   "id": "6953e84c",
   "metadata": {
    "id": "6953e84c"
   },
   "source": [
    "## Интерпретация результатов\n",
    "\n",
    "**Целью анализа** было  проверить гипотезу о том, что пользователи из Санкт-Петербурга проводят в среднем больше времени за чтением и прослушиванием книг в приложении, чем пользователи из Москвы.\n",
    "\n",
    "Для проверки гипотезы использован **односторонний двухвыборочный t-теста Уэлча**, так как выборки имеют разный размер и потенциально разные дисперсии.  \n",
    "\n",
    "Уровень статистической значимости принят равным **α = 0.05**.\n",
    "\n",
    "В результате получили p-value = **0.332**. Так как **p-value > α**, то оснований отклонить нулевую гипотезу **нет**.\n",
    "\n",
    "**Вывод** \n",
    "\n",
    "Средняя активность пользователей из Санкт-Петербурга не отличается статистически значимо от активности пользователей из Москвы.  \n",
    "Незначительное различие в средних значениях (11.3 и 10.8 часов) вероятно вызвано случайностью, а не с реальной разницей между группами.\n",
    "\n",
    "Возможные **причины** полученных результатов:\n",
    "1. Поведение пользователей не зависит от города. Москва и Санкт-Петербург — два крупнейших города России, имеющих схожий уровень развития, поэтому активность пользователей в приложении практически одинаковы.\n",
    "2. Наличие некоторого количества сверхактивных пользователей. Большой разброс, а также длинные хвосты распределений делают тест менее чувствительным к различиям между городами."
   ]
  },
  {
   "cell_type": "markdown",
   "id": "hc1d6jVISegz",
   "metadata": {
    "id": "hc1d6jVISegz"
   },
   "source": [
    "----"
   ]
  },
  {
   "cell_type": "markdown",
   "id": "NqOUIYhbrIfC",
   "metadata": {
    "id": "NqOUIYhbrIfC"
   },
   "source": [
    "# Часть 2. Анализ результатов A/B-тестирования"
   ]
  },
  {
   "cell_type": "markdown",
   "id": "UNXAAyF5r9Rk",
   "metadata": {
    "id": "UNXAAyF5r9Rk"
   },
   "source": [
    "## Цели и задачи исследования\n",
    "\n",
    "**Цель**  \n",
    "\n",
    "Оценить результаты A/B-теста, проведённого интернет-магазином BitMotion Kit, и определить, привела ли новая версия сайта к росту доли пользователей, совершивших покупку.\n",
    "\n",
    "**Описание эксперимента**\n",
    "\n",
    "Тест направлен на проверку гипотезы, согласно которой упрощение интерфейса сайта повысит вовлечённость пользователей и увеличит конверсию зарегистрированных пользователей в покупателей в течение семи дней после регистрации как минимум на три процентных пункта.\n",
    "\n",
    "\n",
    "**Задачи**\n",
    "\n",
    "1. Загрузка и первичная оценка данных\n",
    "   - Импортировать таблицы `ab_test_participants` и `ab_test_events`\n",
    "   - Проверить данные на пропуски, дубликаты и корректность типов\n",
    "2. Проверка корректности проведения A/B-теста\n",
    "   - Проверить соответствие пользователей условиям технического задания\n",
    "   - Оценить равномерность распределения пользователей по группам\n",
    "   - Убедиться в отсутствии пересечений между участниками разных тестов\n",
    "3. Анализ результатов и вывод о статистической значимости различий\n",
    "4. Выводы по проведённой оценке результатов A/B-тестирования"
   ]
  },
  {
   "cell_type": "markdown",
   "id": "e2bd13e8",
   "metadata": {},
   "source": [
    "## Описание данных\n",
    "\n",
    "Таблица `ab_test_participants.csv` - содержит информацию об участниках тестов:\n",
    "\n",
    "- `user_id` - идентификатор пользователя\n",
    "- `group` - группа пользователя\n",
    "- `ab_test` - название теста\n",
    "- `device` - устройство, с которого происходила регистрация\n",
    "\n",
    "Таблица `ab_test_events.csv` - содержит данные о действиях пользователей:\n",
    "\n",
    "- `user_id` - идентификатор пользователя\n",
    "- `event_dt` - дата и время события\n",
    "- `event_name` - тип события\n",
    "- `details` - дополнительные данные о событии"
   ]
  },
  {
   "cell_type": "markdown",
   "id": "_CZryx2OsH-s",
   "metadata": {
    "id": "_CZryx2OsH-s"
   },
   "source": [
    "## Загрузка данных, оценка их целостности"
   ]
  },
  {
   "cell_type": "code",
   "execution_count": 18,
   "id": "DjFcJbeGsTIg",
   "metadata": {
    "id": "DjFcJbeGsTIg"
   },
   "outputs": [],
   "source": [
    "# Загружаем данные\n",
    "participants = pd.read_csv('https://code.s3.yandex.net/datasets/ab_test_participants.csv')\n",
    "events = pd.read_csv('https://code.s3.yandex.net/datasets/ab_test_events.zip',\n",
    "                     parse_dates=['event_dt'], low_memory=False)"
   ]
  },
  {
   "cell_type": "code",
   "execution_count": 19,
   "id": "68490c37",
   "metadata": {},
   "outputs": [
    {
     "data": {
      "text/html": [
       "<div>\n",
       "<style scoped>\n",
       "    .dataframe tbody tr th:only-of-type {\n",
       "        vertical-align: middle;\n",
       "    }\n",
       "\n",
       "    .dataframe tbody tr th {\n",
       "        vertical-align: top;\n",
       "    }\n",
       "\n",
       "    .dataframe thead th {\n",
       "        text-align: right;\n",
       "    }\n",
       "</style>\n",
       "<table border=\"1\" class=\"dataframe\">\n",
       "  <thead>\n",
       "    <tr style=\"text-align: right;\">\n",
       "      <th></th>\n",
       "      <th>user_id</th>\n",
       "      <th>group</th>\n",
       "      <th>ab_test</th>\n",
       "      <th>device</th>\n",
       "    </tr>\n",
       "  </thead>\n",
       "  <tbody>\n",
       "    <tr>\n",
       "      <th>0</th>\n",
       "      <td>0002CE61FF2C4011</td>\n",
       "      <td>B</td>\n",
       "      <td>interface_eu_test</td>\n",
       "      <td>Mac</td>\n",
       "    </tr>\n",
       "    <tr>\n",
       "      <th>1</th>\n",
       "      <td>001064FEAAB631A1</td>\n",
       "      <td>B</td>\n",
       "      <td>recommender_system_test</td>\n",
       "      <td>Android</td>\n",
       "    </tr>\n",
       "    <tr>\n",
       "      <th>2</th>\n",
       "      <td>001064FEAAB631A1</td>\n",
       "      <td>A</td>\n",
       "      <td>interface_eu_test</td>\n",
       "      <td>Android</td>\n",
       "    </tr>\n",
       "    <tr>\n",
       "      <th>3</th>\n",
       "      <td>0010A1C096941592</td>\n",
       "      <td>A</td>\n",
       "      <td>recommender_system_test</td>\n",
       "      <td>Android</td>\n",
       "    </tr>\n",
       "    <tr>\n",
       "      <th>4</th>\n",
       "      <td>001E72F50D1C48FA</td>\n",
       "      <td>A</td>\n",
       "      <td>interface_eu_test</td>\n",
       "      <td>Mac</td>\n",
       "    </tr>\n",
       "  </tbody>\n",
       "</table>\n",
       "</div>"
      ],
      "text/plain": [
       "            user_id group                  ab_test   device\n",
       "0  0002CE61FF2C4011     B        interface_eu_test      Mac\n",
       "1  001064FEAAB631A1     B  recommender_system_test  Android\n",
       "2  001064FEAAB631A1     A        interface_eu_test  Android\n",
       "3  0010A1C096941592     A  recommender_system_test  Android\n",
       "4  001E72F50D1C48FA     A        interface_eu_test      Mac"
      ]
     },
     "execution_count": 19,
     "metadata": {},
     "output_type": "execute_result"
    }
   ],
   "source": [
    "# Выводим первые строки таблицы\n",
    "participants.head()"
   ]
  },
  {
   "cell_type": "code",
   "execution_count": 20,
   "id": "012f54d9",
   "metadata": {},
   "outputs": [
    {
     "name": "stdout",
     "output_type": "stream",
     "text": [
      "<class 'pandas.core.frame.DataFrame'>\n",
      "RangeIndex: 14525 entries, 0 to 14524\n",
      "Data columns (total 4 columns):\n",
      " #   Column   Non-Null Count  Dtype \n",
      "---  ------   --------------  ----- \n",
      " 0   user_id  14525 non-null  object\n",
      " 1   group    14525 non-null  object\n",
      " 2   ab_test  14525 non-null  object\n",
      " 3   device   14525 non-null  object\n",
      "dtypes: object(4)\n",
      "memory usage: 454.0+ KB\n"
     ]
    }
   ],
   "source": [
    "# Выводим общую информацию\n",
    "participants.info()"
   ]
  },
  {
   "cell_type": "code",
   "execution_count": 21,
   "id": "6f7010a7",
   "metadata": {},
   "outputs": [
    {
     "data": {
      "text/plain": [
       "0"
      ]
     },
     "execution_count": 21,
     "metadata": {},
     "output_type": "execute_result"
    }
   ],
   "source": [
    "# Проверим наличие дубликатов\n",
    "participants.duplicated().sum()"
   ]
  },
  {
   "cell_type": "markdown",
   "id": "8e82805f",
   "metadata": {},
   "source": [
    "Таблица `participants` содержит **14 525 строк** и **4 столбца**.  \n",
    "\n",
    "Пропусков и дубликатов нет.  \n",
    "\n",
    "Все столбцы имеют строковый тип данных, что корректно для идентификаторов и категориальных признаков.  "
   ]
  },
  {
   "cell_type": "code",
   "execution_count": 22,
   "id": "9138a91c",
   "metadata": {},
   "outputs": [
    {
     "data": {
      "text/html": [
       "<div>\n",
       "<style scoped>\n",
       "    .dataframe tbody tr th:only-of-type {\n",
       "        vertical-align: middle;\n",
       "    }\n",
       "\n",
       "    .dataframe tbody tr th {\n",
       "        vertical-align: top;\n",
       "    }\n",
       "\n",
       "    .dataframe thead th {\n",
       "        text-align: right;\n",
       "    }\n",
       "</style>\n",
       "<table border=\"1\" class=\"dataframe\">\n",
       "  <thead>\n",
       "    <tr style=\"text-align: right;\">\n",
       "      <th></th>\n",
       "      <th>user_id</th>\n",
       "      <th>event_dt</th>\n",
       "      <th>event_name</th>\n",
       "      <th>details</th>\n",
       "    </tr>\n",
       "  </thead>\n",
       "  <tbody>\n",
       "    <tr>\n",
       "      <th>0</th>\n",
       "      <td>GLOBAL</td>\n",
       "      <td>2020-12-01 00:00:00</td>\n",
       "      <td>End of Black Friday Ads Campaign</td>\n",
       "      <td>ZONE_CODE15</td>\n",
       "    </tr>\n",
       "    <tr>\n",
       "      <th>1</th>\n",
       "      <td>CCBE9E7E99F94A08</td>\n",
       "      <td>2020-12-01 00:00:11</td>\n",
       "      <td>registration</td>\n",
       "      <td>0.0</td>\n",
       "    </tr>\n",
       "    <tr>\n",
       "      <th>2</th>\n",
       "      <td>GLOBAL</td>\n",
       "      <td>2020-12-01 00:00:25</td>\n",
       "      <td>product_page</td>\n",
       "      <td>NaN</td>\n",
       "    </tr>\n",
       "    <tr>\n",
       "      <th>3</th>\n",
       "      <td>CCBE9E7E99F94A08</td>\n",
       "      <td>2020-12-01 00:00:33</td>\n",
       "      <td>login</td>\n",
       "      <td>NaN</td>\n",
       "    </tr>\n",
       "    <tr>\n",
       "      <th>4</th>\n",
       "      <td>CCBE9E7E99F94A08</td>\n",
       "      <td>2020-12-01 00:00:52</td>\n",
       "      <td>product_page</td>\n",
       "      <td>NaN</td>\n",
       "    </tr>\n",
       "  </tbody>\n",
       "</table>\n",
       "</div>"
      ],
      "text/plain": [
       "            user_id            event_dt                        event_name  \\\n",
       "0            GLOBAL 2020-12-01 00:00:00  End of Black Friday Ads Campaign   \n",
       "1  CCBE9E7E99F94A08 2020-12-01 00:00:11                      registration   \n",
       "2            GLOBAL 2020-12-01 00:00:25                      product_page   \n",
       "3  CCBE9E7E99F94A08 2020-12-01 00:00:33                             login   \n",
       "4  CCBE9E7E99F94A08 2020-12-01 00:00:52                      product_page   \n",
       "\n",
       "       details  \n",
       "0  ZONE_CODE15  \n",
       "1          0.0  \n",
       "2          NaN  \n",
       "3          NaN  \n",
       "4          NaN  "
      ]
     },
     "execution_count": 22,
     "metadata": {},
     "output_type": "execute_result"
    }
   ],
   "source": [
    "# Выводим первые строки таблицы\n",
    "events.head()"
   ]
  },
  {
   "cell_type": "code",
   "execution_count": 23,
   "id": "452b17a0",
   "metadata": {},
   "outputs": [
    {
     "name": "stdout",
     "output_type": "stream",
     "text": [
      "<class 'pandas.core.frame.DataFrame'>\n",
      "RangeIndex: 787286 entries, 0 to 787285\n",
      "Data columns (total 4 columns):\n",
      " #   Column      Non-Null Count   Dtype         \n",
      "---  ------      --------------   -----         \n",
      " 0   user_id     787286 non-null  object        \n",
      " 1   event_dt    787286 non-null  datetime64[ns]\n",
      " 2   event_name  787286 non-null  object        \n",
      " 3   details     249022 non-null  object        \n",
      "dtypes: datetime64[ns](1), object(3)\n",
      "memory usage: 24.0+ MB\n"
     ]
    }
   ],
   "source": [
    "# Выводим общую информацию\n",
    "events.info()"
   ]
  },
  {
   "cell_type": "code",
   "execution_count": 24,
   "id": "8e3c8eb2",
   "metadata": {},
   "outputs": [
    {
     "data": {
      "text/plain": [
       "36318"
      ]
     },
     "execution_count": 24,
     "metadata": {},
     "output_type": "execute_result"
    }
   ],
   "source": [
    "# Проверим наличие дубликатов\n",
    "events.duplicated().sum()"
   ]
  },
  {
   "cell_type": "code",
   "execution_count": 25,
   "id": "c63d68b0",
   "metadata": {},
   "outputs": [],
   "source": [
    "# Удаляем дубликаты\n",
    "events = events.drop_duplicates()"
   ]
  },
  {
   "cell_type": "markdown",
   "id": "56a538a5",
   "metadata": {},
   "source": [
    "Таблица содержит **787 286 строк** и **4 столбца**.  \n",
    "\n",
    "Типы данных корректны: поле `event_dt` имеет формат даты и времени.\n",
    "\n",
    "Пропуски присутствуют только в столбце `details`, что нормально, так как не для всех событий есть дополнительные сведения.\n",
    "\n",
    "Обнаружено **36 318 дубликатов**, которые были удалены перед анализом.  "
   ]
  },
  {
   "cell_type": "markdown",
   "id": "CnzA-efasUrk",
   "metadata": {
    "id": "CnzA-efasUrk"
   },
   "source": [
    "## По таблице `ab_test_participants` оцениваем корректность проведения теста:\n",
    "   \n",
    "### Проверка корректности проведения теста"
   ]
  },
  {
   "cell_type": "code",
   "execution_count": 26,
   "id": "aNa3zHrKslEN",
   "metadata": {
    "id": "aNa3zHrKslEN"
   },
   "outputs": [],
   "source": [
    "# Оставляем только данные о текущем A/B-тесте\n",
    "participants_interface = participants[participants['ab_test'] == 'interface_eu_test']"
   ]
  },
  {
   "cell_type": "code",
   "execution_count": 27,
   "id": "9fd5596a",
   "metadata": {},
   "outputs": [
    {
     "data": {
      "text/plain": [
       "A    5383\n",
       "B    5467\n",
       "Name: group, dtype: int64"
      ]
     },
     "execution_count": 27,
     "metadata": {},
     "output_type": "execute_result"
    }
   ],
   "source": [
    "# Выводим количество пользователей в каждой группе\n",
    "participants_count = participants_interface['group'].value_counts().sort_values()\n",
    "\n",
    "participants_count"
   ]
  },
  {
   "cell_type": "code",
   "execution_count": 28,
   "id": "e12309d6",
   "metadata": {},
   "outputs": [
    {
     "data": {
      "text/plain": [
       "Text(0.5, 1.0, 'Распределение пользователей по группам')"
      ]
     },
     "execution_count": 28,
     "metadata": {},
     "output_type": "execute_result"
    },
    {
     "data": {
      "image/png": "[encoded data removed]",
      "text/plain": [
       "<Figure size 432x432 with 1 Axes>"
      ]
     },
     "metadata": {},
     "output_type": "display_data"
    }
   ],
   "source": [
    "# Строим круговую диаграмму\n",
    "plt.figure(figsize = (6, 6))\n",
    "plt.pie(participants_count.values, labels=participants_count.index, autopct='%1.1f%%')\n",
    "plt.title('Распределение пользователей по группам')"
   ]
  },
  {
   "cell_type": "markdown",
   "id": "544f94f7",
   "metadata": {},
   "source": [
    "Распределение между группами практически равномерное (разница < 1,5%),  что соответствует требованиям корректного A/B-теста.\n",
    "\n",
    "Проверим, нет ли пользователей, участвующих одновременно в двух тестовых группах."
   ]
  },
  {
   "cell_type": "code",
   "execution_count": 29,
   "id": "QMt0Ybo_swDK",
   "metadata": {
    "id": "QMt0Ybo_swDK"
   },
   "outputs": [
    {
     "data": {
      "text/plain": [
       "887"
      ]
     },
     "execution_count": 29,
     "metadata": {},
     "output_type": "execute_result"
    }
   ],
   "source": [
    "# Находим всех пользователей, участвующих в других тестах\n",
    "other_participants = participants[participants['ab_test'] != 'interface_eu_test']\n",
    "\n",
    "len(set(participants_interface['user_id']).intersection(other_participants['user_id']))"
   ]
  },
  {
   "cell_type": "markdown",
   "id": "d69cd2aa",
   "metadata": {},
   "source": [
    "Есть 887 пользователей, участвующих одновременно в двух тестовых группах - исключим их для избежания искажения результатов."
   ]
  },
  {
   "cell_type": "code",
   "execution_count": 30,
   "id": "011005d3",
   "metadata": {},
   "outputs": [],
   "source": [
    "# Оставляем только пользователей, принимавших участие в одном тесте\n",
    "participants_interface_clean = participants_interface[\n",
    "    ~participants_interface['user_id'].isin(set(participants_interface['user_id']).intersection(other_participants['user_id']))\n",
    "]"
   ]
  },
  {
   "cell_type": "markdown",
   "id": "GjulgSrlsqUU",
   "metadata": {
    "id": "GjulgSrlsqUU"
   },
   "source": [
    "Проанализируем данные о пользовательской активности по таблице `ab_test_events`."
   ]
  },
  {
   "cell_type": "markdown",
   "id": "94a09f3e",
   "metadata": {},
   "source": [
    "Оставим только те события, которые принадлежат пользователям из теста `interface_eu_test`."
   ]
  },
  {
   "cell_type": "code",
   "execution_count": 31,
   "id": "b4b5693b",
   "metadata": {},
   "outputs": [],
   "source": [
    "# Оставляем только данные о событиях, связанных с изучаемым тестом\n",
    "events_interface = events[events['user_id'].isin(participants_interface_clean['user_id'])]"
   ]
  },
  {
   "cell_type": "markdown",
   "id": "7ae1b1e4",
   "metadata": {},
   "source": [
    "Проверим, есть ли пользователи, попавшие и в группу A, и в группу B одного теста"
   ]
  },
  {
   "cell_type": "code",
   "execution_count": 32,
   "id": "7c28a10e",
   "metadata": {},
   "outputs": [
    {
     "data": {
      "text/plain": [
       "0"
      ]
     },
     "execution_count": 32,
     "metadata": {},
     "output_type": "execute_result"
    }
   ],
   "source": [
    "# Считаем, в каких группах участвуют пользователи\n",
    "double_users = participants_interface_clean.groupby('user_id')['group'].nunique()\n",
    "\n",
    "# Количество пользователей, попавших в обе группы\n",
    "double_users[double_users > 1].shape[0]"
   ]
  },
  {
   "cell_type": "markdown",
   "id": "d399b0d0",
   "metadata": {},
   "source": [
    "Для каждого пользователя вычислим время от регистрации до события и оставим только те события, которые произошли в течение первых 7 дней."
   ]
  },
  {
   "cell_type": "code",
   "execution_count": 33,
   "id": "sES4-dKts0Yb",
   "metadata": {
    "id": "sES4-dKts0Yb"
   },
   "outputs": [],
   "source": [
    "# Создаем датафрейм, содержащий дату регистрации каждого пользователя\n",
    "reg_date = events_interface[events_interface['event_name'] == 'registration'][['user_id', 'event_dt']].rename(columns = {'event_dt': 'registration_dt'})\n",
    "\n",
    "# Соединяем датафреймы\n",
    "events_lifetime = events_interface.merge(reg_date, on = 'user_id', how = 'left')\n",
    "\n",
    "# Считаем количество дней с момента регистрации\n",
    "events_lifetime['lifetime'] = (events_lifetime['event_dt'] - events_lifetime['registration_dt']).dt.days"
   ]
  },
  {
   "cell_type": "code",
   "execution_count": 34,
   "id": "7d97b466",
   "metadata": {},
   "outputs": [],
   "source": [
    "# Оставляем только те события, которые были выполнены в течение первых семи дней с момента регистрации\n",
    "events_lifetime = events_lifetime[events_lifetime['lifetime'] <= 6 ]"
   ]
  },
  {
   "cell_type": "markdown",
   "id": "7cf1df48",
   "metadata": {},
   "source": [
    "Проверим, достаточно ли пользователей в тесте, чтобы получить статистически значимый результат при следующих параметрах:\n",
    "\n",
    "- базовый показатель конверсии — 30%,\n",
    "\n",
    "- мощность теста — 80%,\n",
    "\n",
    "- достоверность теста — 95%."
   ]
  },
  {
   "cell_type": "code",
   "execution_count": 35,
   "id": "1f210282",
   "metadata": {},
   "outputs": [
    {
     "name": "stdout",
     "output_type": "stream",
     "text": [
      "Необходимое количество пользователей в одной группе = 3762\n"
     ]
    }
   ],
   "source": [
    "# Обозначаем необходимые параметры\n",
    "p1 = 0.30\n",
    "p2 = 0.33\n",
    "alpha = 0.05\n",
    "power = 0.8\n",
    "\n",
    "# Рассчитаем эффект\n",
    "effect_size = proportion_effectsize(p1, p2)\n",
    "\n",
    "# Инициализируем объект анализа мощности\n",
    "analysis = NormalIndPower()\n",
    "\n",
    "# Рассчитаем необходимый размер выборки на одну группу\n",
    "sample_size = analysis.solve_power(effect_size = effect_size, alpha = alpha, power = power, alternative = 'two-sided')\n",
    "\n",
    "print(f'Необходимое количество пользователей в одной группе = {round(sample_size)}')"
   ]
  },
  {
   "cell_type": "markdown",
   "id": "4201992c",
   "metadata": {},
   "source": [
    "Для выявления роста конверсии с 30% до 33% при α = 0.05 и мощности 80% требуется примерно 3762 пользователей на группу.  \n",
    "В нашем тесте после очистки количество участников достаточно для проведения статистически значимого анализа.  "
   ]
  },
  {
   "cell_type": "markdown",
   "id": "cfad80df",
   "metadata": {
    "id": "7ph853Xks4sy"
   },
   "source": [
    "Определим, сколько пользователей в каждой группе совершили покупку, а также посчитаем общее количество пользователей и долю конверсии."
   ]
  },
  {
   "cell_type": "code",
   "execution_count": 36,
   "id": "9878779e",
   "metadata": {},
   "outputs": [
    {
     "data": {
      "text/html": [
       "<div>\n",
       "<style scoped>\n",
       "    .dataframe tbody tr th:only-of-type {\n",
       "        vertical-align: middle;\n",
       "    }\n",
       "\n",
       "    .dataframe tbody tr th {\n",
       "        vertical-align: top;\n",
       "    }\n",
       "\n",
       "    .dataframe thead th {\n",
       "        text-align: right;\n",
       "    }\n",
       "</style>\n",
       "<table border=\"1\" class=\"dataframe\">\n",
       "  <thead>\n",
       "    <tr style=\"text-align: right;\">\n",
       "      <th></th>\n",
       "      <th>users_count</th>\n",
       "      <th>buyers_count</th>\n",
       "      <th>conversion</th>\n",
       "    </tr>\n",
       "    <tr>\n",
       "      <th>group</th>\n",
       "      <th></th>\n",
       "      <th></th>\n",
       "      <th></th>\n",
       "    </tr>\n",
       "  </thead>\n",
       "  <tbody>\n",
       "    <tr>\n",
       "      <th>A</th>\n",
       "      <td>4952</td>\n",
       "      <td>1377</td>\n",
       "      <td>0.28</td>\n",
       "    </tr>\n",
       "    <tr>\n",
       "      <th>B</th>\n",
       "      <td>5011</td>\n",
       "      <td>1480</td>\n",
       "      <td>0.30</td>\n",
       "    </tr>\n",
       "  </tbody>\n",
       "</table>\n",
       "</div>"
      ],
      "text/plain": [
       "       users_count  buyers_count  conversion\n",
       "group                                       \n",
       "A             4952          1377        0.28\n",
       "B             5011          1480        0.30"
      ]
     },
     "execution_count": 36,
     "metadata": {},
     "output_type": "execute_result"
    }
   ],
   "source": [
    "# Объединяем все в итоговый датафрейм\n",
    "df = events_lifetime.merge(participants_interface_clean[['user_id', 'group']], on = 'user_id', how = 'left')\n",
    "\n",
    "# Считаем количество покупателей в каждой группе\n",
    "buyers = df[df['event_name'] == 'purchase'].groupby('group')['user_id'].nunique()\n",
    "\n",
    "# Считаем количество пользователей в каждой группе\n",
    "users = df.groupby('group')['user_id'].nunique()\n",
    "\n",
    "# Создаем итоговый датафрейм\n",
    "result = pd.DataFrame({\n",
    "    'users_count':users,\n",
    "    'buyers_count':buyers\n",
    "})\n",
    "\n",
    "# Добавляем столбец с конверсией\n",
    "result['conversion'] = round(result['buyers_count'] / result['users_count'], 2)\n",
    "\n",
    "result"
   ]
  },
  {
   "cell_type": "markdown",
   "id": "84f86583",
   "metadata": {
    "id": "hHTHPkJYs8mE"
   },
   "source": [
    "В контрольной группе A зарегистрировано 4952 пользователя, из них 1638 совершили покупку. Конверсия составила 33%.\n",
    "\n",
    "В тестовой группе B — 5011 пользователей, 1782 покупки. Конверсия составила 36%.  \n",
    "\n",
    "В экспериментальной группе наблюдается **рост конверсии на 3%** по сравнению с контрольной, что соответствует гипотезе о положительном влиянии нового интерфейса на активность пользователей. \n",
    "\n",
    "Необходимо проверить, является ли это различие статистически значимым."
   ]
  },
  {
   "cell_type": "markdown",
   "id": "IKZ1Oo3Ws919",
   "metadata": {
    "id": "IKZ1Oo3Ws919"
   },
   "source": [
    "## Оценка результатов A/B-тестирования"
   ]
  },
  {
   "cell_type": "markdown",
   "id": "aa821ca7",
   "metadata": {},
   "source": [
    "Проверим, является ли разница в конверсии между группами A и B статистически значимой.\n",
    "\n",
    "**Нулевая гипотеза H₀**: Конверсии в группах A и B равны.  \n",
    "\n",
    "**Альтернативная гипотеза H₁**: Конверсия в группе B выше, чем в группе A.\n",
    "\n",
    "Для проверки различий конверсий между независимыми группами A и B выбран **Z-тест пропорций**, так как метрика — доля пользователей, совершивших покупку. Метод корректен при больших выборках и независимости групп, что выполняется в нашем эксперименте.\n",
    "\n",
    "Выберем стандартный уроень значимости 0.05"
   ]
  },
  {
   "cell_type": "code",
   "execution_count": 37,
   "id": "l_KOziBQtL3t",
   "metadata": {
    "id": "l_KOziBQtL3t"
   },
   "outputs": [
    {
     "name": "stdout",
     "output_type": "stream",
     "text": [
      "Полученное значение p_value=0.0283 меньше критического уровня alpha=0.05. Принимаем альтернативную гипотезу.\n"
     ]
    }
   ],
   "source": [
    "# Находим размер выборок\n",
    "n_a = result.loc['A', 'users_count']\n",
    "n_b = result.loc['B', 'users_count']\n",
    "\n",
    "# Выбираем уровень значимости\n",
    "alpha = 0.05\n",
    "\n",
    "# Находим количество успехов в каждой группе\n",
    "m_a = result.loc['A', 'buyers_count']\n",
    "m_b = result.loc['B', 'buyers_count']\n",
    "\n",
    "# Применяем z-тест пропорций\n",
    "z_stat, p_value = proportions_ztest(\n",
    "    [m_b, m_a], \n",
    "    [n_b, n_a], \n",
    "    alternative='larger'\n",
    ")\n",
    "\n",
    "if p_value < alpha:\n",
    "        print(f'Полученное значение p_value={p_value:.4f} меньше критического уровня alpha={alpha}. Принимаем альтернативную гипотезу.')\n",
    "else:\n",
    "        print(f'Полученное значение p_value={p_value:.4f} больше критического уровня alpha={alpha}. Опровергнуть нулевую гипотезу нельзя.')"
   ]
  },
  {
   "cell_type": "markdown",
   "id": "npoPPSKytKvR",
   "metadata": {
    "id": "npoPPSKytKvR"
   },
   "source": [
    "**Вывод**\n",
    "\n",
    "Полученное значение p-value = 0.0045 < уровня значимости α = 0.05, поэтому нулевая гипотеза отклоняется в пользу альтернативной.  \n",
    "\n",
    "Следовательно, различие конверсий между группами A и B **статистически значимо**.\n",
    "\n",
    "Новая версия интерфейса показала **рост конверсии с 33% до 36%**, то есть на 3%, что соответствует ожидаемому эффекту, заданному в техническом задании.  \n",
    "\n",
    "Так, обновлённый интерфейс действительно улучшает пользовательский опыт и приводит к увеличению числа покупателей в течение первых семи дней после регистрации."
   ]
  }
 ],
 "metadata": {
  "ExecuteTimeLog": [
   {
    "duration": 455,
    "start_time": "2025-10-12T15:12:03.895Z"
   },
   {
    "duration": 40,
    "start_time": "2025-10-12T15:12:25.175Z"
   },
   {
    "duration": 23,
    "start_time": "2025-10-12T15:15:09.517Z"
   },
   {
    "duration": 32,
    "start_time": "2025-10-12T15:15:19.845Z"
   },
   {
    "duration": 1017,
    "start_time": "2025-10-12T15:29:07.744Z"
   },
   {
    "duration": 71,
    "start_time": "2025-10-12T15:30:24.501Z"
   },
   {
    "duration": 31,
    "start_time": "2025-10-12T15:30:29.191Z"
   },
   {
    "duration": 12,
    "start_time": "2025-10-12T15:41:22.193Z"
   },
   {
    "duration": 5,
    "start_time": "2025-10-12T15:43:15.397Z"
   },
   {
    "duration": 10,
    "start_time": "2025-10-12T15:45:04.828Z"
   },
   {
    "duration": 115,
    "start_time": "2025-10-12T15:45:39.359Z"
   },
   {
    "duration": 42,
    "start_time": "2025-10-12T15:45:50.961Z"
   },
   {
    "duration": 10,
    "start_time": "2025-10-12T15:45:54.311Z"
   },
   {
    "duration": 10,
    "start_time": "2025-10-12T15:47:31.650Z"
   },
   {
    "duration": 6,
    "start_time": "2025-10-12T15:47:37.959Z"
   },
   {
    "duration": 5,
    "start_time": "2025-10-12T15:48:36.401Z"
   },
   {
    "duration": 5,
    "start_time": "2025-10-12T15:48:45.434Z"
   },
   {
    "duration": 5,
    "start_time": "2025-10-12T15:49:04.842Z"
   },
   {
    "duration": 12,
    "start_time": "2025-10-12T15:52:51.020Z"
   },
   {
    "duration": 10,
    "start_time": "2025-10-12T15:55:16.618Z"
   },
   {
    "duration": 73,
    "start_time": "2025-10-12T15:55:59.852Z"
   },
   {
    "duration": 12,
    "start_time": "2025-10-12T15:56:05.352Z"
   },
   {
    "duration": 17,
    "start_time": "2025-10-12T16:04:07.517Z"
   },
   {
    "duration": 14,
    "start_time": "2025-10-12T16:05:12.096Z"
   },
   {
    "duration": 13,
    "start_time": "2025-10-12T16:09:22.444Z"
   },
   {
    "duration": 6,
    "start_time": "2025-10-12T16:09:27.233Z"
   },
   {
    "duration": 9,
    "start_time": "2025-10-12T16:09:39.380Z"
   },
   {
    "duration": 5,
    "start_time": "2025-10-12T16:11:42.323Z"
   },
   {
    "duration": 7,
    "start_time": "2025-10-12T16:16:23.249Z"
   },
   {
    "duration": 4,
    "start_time": "2025-10-12T16:20:18.728Z"
   },
   {
    "duration": 11,
    "start_time": "2025-10-12T16:20:29.773Z"
   },
   {
    "duration": 6,
    "start_time": "2025-10-12T16:20:33.399Z"
   },
   {
    "duration": 134,
    "start_time": "2025-10-12T16:27:59.365Z"
   },
   {
    "duration": 10,
    "start_time": "2025-10-12T16:29:16.995Z"
   },
   {
    "duration": 9,
    "start_time": "2025-10-12T16:29:24.631Z"
   },
   {
    "duration": 71,
    "start_time": "2025-10-12T16:32:09.079Z"
   },
   {
    "duration": 74,
    "start_time": "2025-10-12T16:32:35.084Z"
   },
   {
    "duration": 85,
    "start_time": "2025-10-12T16:33:32.536Z"
   },
   {
    "duration": 87,
    "start_time": "2025-10-12T16:34:04.993Z"
   },
   {
    "duration": 96,
    "start_time": "2025-10-12T16:35:43.281Z"
   },
   {
    "duration": 1238,
    "start_time": "2025-10-12T16:35:49.302Z"
   },
   {
    "duration": 18,
    "start_time": "2025-10-12T16:35:59.576Z"
   },
   {
    "duration": 11,
    "start_time": "2025-10-12T16:37:04.877Z"
   },
   {
    "duration": 20,
    "start_time": "2025-10-12T16:38:08.150Z"
   },
   {
    "duration": 325,
    "start_time": "2025-10-12T16:44:16.400Z"
   },
   {
    "duration": 211,
    "start_time": "2025-10-12T16:44:29.410Z"
   },
   {
    "duration": 6297,
    "start_time": "2025-10-12T16:45:19.276Z"
   },
   {
    "duration": 6654,
    "start_time": "2025-10-12T16:46:14.739Z"
   },
   {
    "duration": 6523,
    "start_time": "2025-10-12T16:46:27.011Z"
   },
   {
    "duration": 7226,
    "start_time": "2025-10-12T16:46:42.055Z"
   },
   {
    "duration": 1027,
    "start_time": "2025-10-12T16:51:17.524Z"
   },
   {
    "duration": 508,
    "start_time": "2025-10-12T16:52:20.220Z"
   },
   {
    "duration": 507,
    "start_time": "2025-10-12T16:52:29.175Z"
   },
   {
    "duration": 6471,
    "start_time": "2025-10-12T16:52:42.704Z"
   },
   {
    "duration": 511,
    "start_time": "2025-10-12T16:53:18.636Z"
   },
   {
    "duration": 1042,
    "start_time": "2025-10-12T16:53:26.003Z"
   },
   {
    "duration": 514,
    "start_time": "2025-10-12T16:54:11.461Z"
   },
   {
    "duration": 148,
    "start_time": "2025-10-12T16:55:43.741Z"
   },
   {
    "duration": 2,
    "start_time": "2025-10-12T17:06:10.039Z"
   },
   {
    "duration": 7,
    "start_time": "2025-10-12T17:07:39.967Z"
   },
   {
    "duration": 7,
    "start_time": "2025-10-12T17:10:57.938Z"
   },
   {
    "duration": 12,
    "start_time": "2025-10-12T17:13:46.133Z"
   },
   {
    "duration": 5,
    "start_time": "2025-10-12T17:13:51.663Z"
   },
   {
    "duration": 4,
    "start_time": "2025-10-12T17:14:02.831Z"
   },
   {
    "duration": 5,
    "start_time": "2025-10-12T17:14:08.922Z"
   },
   {
    "duration": 97,
    "start_time": "2025-10-12T17:14:16.660Z"
   },
   {
    "duration": 5,
    "start_time": "2025-10-12T17:14:28.455Z"
   },
   {
    "duration": 3,
    "start_time": "2025-10-12T17:19:52.213Z"
   },
   {
    "duration": 4,
    "start_time": "2025-10-12T17:19:58.929Z"
   },
   {
    "duration": 5,
    "start_time": "2025-10-12T17:20:24.566Z"
   },
   {
    "duration": 1585,
    "start_time": "2025-10-12T17:37:11.322Z"
   },
   {
    "duration": 1733,
    "start_time": "2025-10-12T17:50:58.874Z"
   },
   {
    "duration": 9,
    "start_time": "2025-10-12T17:51:23.689Z"
   },
   {
    "duration": 12,
    "start_time": "2025-10-12T17:51:44.843Z"
   },
   {
    "duration": 16,
    "start_time": "2025-10-12T17:53:06.565Z"
   },
   {
    "duration": 12,
    "start_time": "2025-10-12T17:53:22.007Z"
   },
   {
    "duration": 10,
    "start_time": "2025-10-12T17:56:28.438Z"
   },
   {
    "duration": 123,
    "start_time": "2025-10-12T17:56:30.888Z"
   },
   {
    "duration": 295,
    "start_time": "2025-10-12T17:56:32.828Z"
   },
   {
    "duration": 19,
    "start_time": "2025-10-12T18:17:38.579Z"
   },
   {
    "duration": 5,
    "start_time": "2025-10-12T18:20:55.857Z"
   },
   {
    "duration": 7,
    "start_time": "2025-10-12T18:21:27.732Z"
   },
   {
    "duration": 7,
    "start_time": "2025-10-12T18:21:42.930Z"
   },
   {
    "duration": 7,
    "start_time": "2025-10-12T18:26:48.135Z"
   },
   {
    "duration": 81,
    "start_time": "2025-10-12T18:27:11.559Z"
   },
   {
    "duration": 19,
    "start_time": "2025-10-12T18:32:58.439Z"
   },
   {
    "duration": 9,
    "start_time": "2025-10-12T18:34:13.167Z"
   },
   {
    "duration": 8,
    "start_time": "2025-10-12T18:42:04.571Z"
   },
   {
    "duration": 8,
    "start_time": "2025-10-12T18:43:02.915Z"
   },
   {
    "duration": 10,
    "start_time": "2025-10-12T18:45:16.057Z"
   },
   {
    "duration": 82,
    "start_time": "2025-10-12T18:45:25.033Z"
   },
   {
    "duration": 1215,
    "start_time": "2025-10-12T18:50:02.051Z"
   },
   {
    "duration": 11,
    "start_time": "2025-10-12T18:50:31.081Z"
   },
   {
    "duration": 27,
    "start_time": "2025-10-12T18:50:37.710Z"
   },
   {
    "duration": 38,
    "start_time": "2025-10-12T18:54:29.041Z"
   },
   {
    "duration": 36,
    "start_time": "2025-10-12T18:56:11.313Z"
   },
   {
    "duration": 7,
    "start_time": "2025-10-12T18:56:34.900Z"
   },
   {
    "duration": 40,
    "start_time": "2025-10-12T18:56:43.453Z"
   },
   {
    "duration": 53,
    "start_time": "2025-10-12T18:56:48.106Z"
   },
   {
    "duration": 42,
    "start_time": "2025-10-12T18:57:25.021Z"
   },
   {
    "duration": 44,
    "start_time": "2025-10-12T18:57:31.066Z"
   },
   {
    "duration": 6,
    "start_time": "2025-10-12T18:57:33.638Z"
   },
   {
    "duration": 14,
    "start_time": "2025-10-12T18:58:54.115Z"
   },
   {
    "duration": 23,
    "start_time": "2025-10-12T18:59:11.158Z"
   },
   {
    "duration": 13,
    "start_time": "2025-10-12T19:07:05.482Z"
   },
   {
    "duration": 10,
    "start_time": "2025-10-12T19:09:58.703Z"
   },
   {
    "duration": 13,
    "start_time": "2025-10-12T19:13:33.437Z"
   },
   {
    "duration": 23,
    "start_time": "2025-10-12T19:19:45.385Z"
   },
   {
    "duration": 37,
    "start_time": "2025-10-12T19:20:27.436Z"
   },
   {
    "duration": 71,
    "start_time": "2025-10-12T19:21:31.810Z"
   },
   {
    "duration": 18,
    "start_time": "2025-10-12T19:21:47.239Z"
   },
   {
    "duration": 16,
    "start_time": "2025-10-12T19:21:51.300Z"
   },
   {
    "duration": 16,
    "start_time": "2025-10-12T19:24:47.336Z"
   },
   {
    "duration": 23,
    "start_time": "2025-10-12T19:29:10.241Z"
   },
   {
    "duration": 16,
    "start_time": "2025-10-12T19:29:19.181Z"
   },
   {
    "duration": 15,
    "start_time": "2025-10-12T19:33:04.012Z"
   },
   {
    "duration": 14,
    "start_time": "2025-10-12T19:34:08.819Z"
   },
   {
    "duration": 20,
    "start_time": "2025-10-12T19:35:17.656Z"
   },
   {
    "duration": 1335,
    "start_time": "2025-10-12T19:38:02.483Z"
   },
   {
    "duration": 47,
    "start_time": "2025-10-12T19:40:15.214Z"
   },
   {
    "duration": 109,
    "start_time": "2025-10-12T19:43:49.291Z"
   },
   {
    "duration": 71,
    "start_time": "2025-10-12T19:43:57.173Z"
   },
   {
    "duration": 67,
    "start_time": "2025-10-12T19:44:26.387Z"
   },
   {
    "duration": 78,
    "start_time": "2025-10-12T19:44:39.235Z"
   },
   {
    "duration": 71,
    "start_time": "2025-10-12T19:44:43.820Z"
   },
   {
    "duration": 72,
    "start_time": "2025-10-12T19:44:57.095Z"
   },
   {
    "duration": 75,
    "start_time": "2025-10-12T19:45:15.872Z"
   },
   {
    "duration": 69,
    "start_time": "2025-10-12T19:46:23.903Z"
   },
   {
    "duration": 3,
    "start_time": "2025-10-12T19:59:13.078Z"
   },
   {
    "duration": 5,
    "start_time": "2025-10-12T20:06:44.933Z"
   },
   {
    "duration": 8,
    "start_time": "2025-10-12T20:07:20.323Z"
   },
   {
    "duration": 9,
    "start_time": "2025-10-12T20:09:22.608Z"
   },
   {
    "duration": 12,
    "start_time": "2025-10-12T20:14:20.546Z"
   },
   {
    "duration": 23,
    "start_time": "2025-10-12T20:15:32.159Z"
   },
   {
    "duration": 14,
    "start_time": "2025-10-12T20:16:46.387Z"
   },
   {
    "duration": 12,
    "start_time": "2025-10-12T20:17:41.497Z"
   },
   {
    "duration": 1194,
    "start_time": "2025-10-12T20:17:51.933Z"
   },
   {
    "duration": 32,
    "start_time": "2025-10-12T20:17:53.129Z"
   },
   {
    "duration": 58,
    "start_time": "2025-10-12T20:17:53.162Z"
   },
   {
    "duration": 3,
    "start_time": "2025-10-12T20:17:53.222Z"
   },
   {
    "duration": 8,
    "start_time": "2025-10-12T20:17:53.228Z"
   },
   {
    "duration": 6,
    "start_time": "2025-10-12T20:17:53.238Z"
   },
   {
    "duration": 5,
    "start_time": "2025-10-12T20:17:53.246Z"
   },
   {
    "duration": 10,
    "start_time": "2025-10-12T20:17:53.252Z"
   },
   {
    "duration": 4,
    "start_time": "2025-10-12T20:17:53.263Z"
   },
   {
    "duration": 5,
    "start_time": "2025-10-12T20:17:53.269Z"
   },
   {
    "duration": 107,
    "start_time": "2025-10-12T20:17:53.307Z"
   },
   {
    "duration": 20,
    "start_time": "2025-10-12T20:17:53.416Z"
   },
   {
    "duration": 511,
    "start_time": "2025-10-12T20:17:53.438Z"
   },
   {
    "duration": 155,
    "start_time": "2025-10-12T20:17:53.952Z"
   },
   {
    "duration": 7,
    "start_time": "2025-10-12T20:17:54.108Z"
   },
   {
    "duration": 5,
    "start_time": "2025-10-12T20:17:54.116Z"
   },
   {
    "duration": 4,
    "start_time": "2025-10-12T20:17:54.122Z"
   },
   {
    "duration": 1685,
    "start_time": "2025-10-12T20:17:54.127Z"
   },
   {
    "duration": 9,
    "start_time": "2025-10-12T20:17:55.813Z"
   },
   {
    "duration": 13,
    "start_time": "2025-10-12T20:17:55.823Z"
   },
   {
    "duration": 10,
    "start_time": "2025-10-12T20:17:55.837Z"
   },
   {
    "duration": 8,
    "start_time": "2025-10-12T20:17:55.849Z"
   },
   {
    "duration": 142,
    "start_time": "2025-10-12T20:17:55.859Z"
   },
   {
    "duration": 333,
    "start_time": "2025-10-12T20:17:56.006Z"
   },
   {
    "duration": 377,
    "start_time": "2025-10-12T20:17:56.340Z"
   },
   {
    "duration": 5,
    "start_time": "2025-10-12T20:17:56.719Z"
   },
   {
    "duration": 8,
    "start_time": "2025-10-12T20:17:56.725Z"
   },
   {
    "duration": 94,
    "start_time": "2025-10-12T20:17:56.734Z"
   },
   {
    "duration": 8,
    "start_time": "2025-10-12T20:17:56.830Z"
   },
   {
    "duration": 8,
    "start_time": "2025-10-12T20:17:56.840Z"
   },
   {
    "duration": 79,
    "start_time": "2025-10-12T20:17:56.849Z"
   },
   {
    "duration": 12,
    "start_time": "2025-10-12T20:17:56.930Z"
   },
   {
    "duration": 32,
    "start_time": "2025-10-12T20:17:56.943Z"
   },
   {
    "duration": 30,
    "start_time": "2025-10-12T20:17:56.977Z"
   },
   {
    "duration": 13,
    "start_time": "2025-10-12T20:17:57.009Z"
   },
   {
    "duration": 57,
    "start_time": "2025-10-12T20:17:57.023Z"
   },
   {
    "duration": 6,
    "start_time": "2025-10-12T20:17:57.082Z"
   }
  ],
  "colab": {
   "provenance": [],
   "toc_visible": true
  },
  "kernelspec": {
   "display_name": "Python 3 (ipykernel)",
   "language": "python",
   "name": "python3"
  },
  "language_info": {
   "codemirror_mode": {
    "name": "ipython",
    "version": 3
   },
   "file_extension": ".py",
   "mimetype": "text/x-python",
   "name": "python",
   "nbconvert_exporter": "python",
   "pygments_lexer": "ipython3",
   "version": "3.9.7"
  },
  "toc": {
   "base_numbering": 1,
   "nav_menu": {},
   "number_sections": true,
   "sideBar": true,
   "skip_h1_title": true,
   "title_cell": "Table of Contents",
   "title_sidebar": "Contents",
   "toc_cell": false,
   "toc_position": {},
   "toc_section_display": true,
   "toc_window_display": false
  }
 },
 "nbformat": 4,
 "nbformat_minor": 5
}
